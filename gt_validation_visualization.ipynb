{
 "cells": [
  {
   "cell_type": "markdown",
   "id": "7f144ee4",
   "metadata": {},
   "source": [
    "# Ground Truth Metric Validation\n",
    "This notebook evaluates pairwise metrics between ground truth volumes and visualizes both pairwise plots and a full heatmap."
   ]
  },
  {
   "cell_type": "code",
   "execution_count": null,
   "id": "84054df9",
   "metadata": {},
   "outputs": [],
   "source": [
    "import os\n",
    "import glob\n",
    "import numpy as np\n",
    "import matplotlib.pyplot as plt\n",
    "from scipy.spatial import cKDTree\n",
    "import mrcfile\n",
    "from metrics_utils import load_mrc, chamfer distance, volumetric_iou"
   ]
  },
  {
   "cell_type": "code",
   "execution_count": null,
   "id": "18ca1d35",
   "metadata": {},
   "outputs": [],
   "source": [
    "# CONFIGURATION\n",
    "gt_path = '/path/to/ground_truth_volumes'\n",
    "metric_fn = chamfer_distance  # or volumetric_iou\n",
    "metric_name = \"Chamfer Distance\"\n",
    "threshold = 0.05\n",
    "grid_size = 128\n",
    "voxel_size = 4.5"
   ]
  },
  {
   "cell_type": "code",
   "execution_count": null,
   "id": "4d54b0f1",
   "metadata": {},
   "outputs": [],
   "source": [
    "gt_files = sorted(glob.glob(os.path.join(gt_path, '*.mrc')))\n",
    "num_volumes = len(gt_files)\n",
    "reference_indices = list(range(0, num_volumes, 10))\n",
    "all_metric_values = []\n",
    "\n",
    "# Determine global y-range\n",
    "for ref_idx in reference_indices:\n",
    "    gt_ref = load_mrc(gt_files[ref_idx])\n",
    "    metrics = [metric_fn(gt_ref, load_mrc(gt), threshold, grid_size, voxel_size) for gt in gt_files]\n",
    "    all_metric_values.extend(metrics)\n",
    "\n",
    "y_min, y_max = min(all_metric_values), max(all_metric_values)\n",
    "\n",
    "# (a) Plot pairwise comparisons\n",
    "fig, axs = plt.subplots(3, 4, figsize=(15, 10))\n",
    "axs = axs.flatten()\n",
    "for i, ref_idx in enumerate(reference_indices):\n",
    "    gt_ref = load_mrc(gt_files[ref_idx])\n",
    "    metric_values = [metric_fn(gt_ref, load_mrc(gt), threshold, grid_size, voxel_size) for gt in gt_files]\n",
    "    ax = axs[i]\n",
    "    ax.plot(range(num_volumes), metric_values, marker='o', linestyle='None', markersize=3)\n",
    "    ax.set_title(f\"Reference #{ref_idx+1}\")\n",
    "    ax.set_xlabel(\"Volume Index\")\n",
    "    ax.set_ylabel(metric_name)\n",
    "    ax.set_ylim(y_min - 0.1, y_max + 0.1)\n",
    "\n",
    "plt.tight_layout()\n",
    "plt.show()"
   ]
  },
  {
   "cell_type": "code",
   "execution_count": null,
   "id": "b53a1738",
   "metadata": {},
   "outputs": [],
   "source": [
    "# (b) Heatmap across all GT volumes\n",
    "heatmap_data = np.zeros((num_volumes, num_volumes))\n",
    "for i in range(num_volumes):\n",
    "    vol1 = load_mrc(gt_files[i])\n",
    "    for j in range(num_volumes):\n",
    "        vol2 = load_mrc(gt_files[j])\n",
    "        heatmap_data[i, j] = metric_fn(vol1, vol2, threshold, grid_size, voxel_size)\n",
    "\n",
    "plt.figure(figsize=(8, 8))\n",
    "plt.imshow(heatmap_data, cmap='magma', origin='lower')\n",
    "plt.colorbar(label=metric_name)\n",
    "plt.xlabel(\"Volume Index\")\n",
    "plt.ylabel(\"Volume Index\")\n",
    "plt.title(f\"Heatmap of {metric_name}\")\n",
    "plt.show()"
   ]
  }
 ],
 "metadata": {
  "language_info": {
   "name": "python"
  }
 },
 "nbformat": 4,
 "nbformat_minor": 5
}
