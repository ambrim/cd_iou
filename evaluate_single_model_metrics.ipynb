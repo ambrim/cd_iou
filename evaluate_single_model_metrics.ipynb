{
 "cells": [
  {
   "cell_type": "markdown",
   "id": "658e64a5",
   "metadata": {},
   "source": [
    "# Metric Evaluation and Plotting for One Model\n",
    "This notebook computes Chamfer Distance and Volumetric IoU for a single predicted model against ground truth volumes."
   ]
  },
  {
   "cell_type": "code",
   "execution_count": null,
   "id": "1fad50bc",
   "metadata": {},
   "outputs": [],
   "source": [
    "import os\n",
    "import glob\n",
    "import numpy as np\n",
    "import pandas as pd\n",
    "import mrcfile\n",
    "import matplotlib.pyplot as plt\n",
    "from metrics_utils import load_mrc, chamfer_distance, volumetric_iou"

   ]
  },
  {
   "cell_type": "code",
   "execution_count": null,
   "id": "ed6531a5",
   "metadata": {},
   "outputs": [],
   "source": [
    "# CONFIGURATION\n",
    "gt_dir = \"/scratch/gpfs/ZHONGE/mj7341/data/cryobench/IgG-RL/vols/128_org\"\n",
    "pred_dir = \"/scratch/gpfs/ZHONGE/jg1427/results/IgG-RL/noisy_crop/vols\"\n",
    "thresholds = [0.05, 0.10, 0.15, 0.20, 0.25, 0.30]\n",
    "mask_path = \"/scratch/gpfs/ZHONGE/mj7341/data/cryobench/IgG-RL/init_mask/mask.mrc\"\n",
    "grid_size = 128\n",
    "voxel_size = 4.5\n",
    "\n",
    "# EVALUATION\n",
    "results = []\n",
    "pred_files = sorted(glob.glob(os.path.join(pred_dir, \"vol_*.mrc\")))\n",
    "\n",
    "for pred_file in pred_files:\n",
    "    basename = os.path.basename(pred_file)\n",
    "    idx = int(basename.split('_')[-1].split('.')[0])\n",
    "    gt_file = os.path.join(gt_dir, f\"vol_{idx:03d}.mrc\")\n",
    "    if not os.path.exists(gt_file):\n",
    "        print(f\"Missing GT for {basename}, skipping...\")\n",
    "        continue\n",
    "    gt_vol = load_mrc(gt_file)\n",
    "    pred_vol = load_mrc(pred_file)\n",
    "    mask = load_mrc(mask_path) if mask_path else None\n",
    "\n",
    "    for t in thresholds:\n",
    "        cd = chamfer_distance(gt_vol, pred_vol, t, mask, grid_size, voxel_size)\n",
    "        iou = volumetric_iou(gt_vol, pred_vol, t, mask)\n",
    "        results.append({\n",
    "            \"Volume\": basename,\n",
    "            \"Threshold\": t,\n",
    "            \"Chamfer Distance\": cd,\n",
    "            \"IoU\": iou\n",
    "        })\n",
    "\n",
    "df = pd.DataFrame(results)\n",
    "df.head()"
   ]
  },
  {
   "cell_type": "code",
   "execution_count": null,
   "id": "e9ed798c",
   "metadata": {},
   "outputs": [],
   "source": [
    "# PLOTTING\n",
    "grouped = df.groupby(\"Threshold\").agg({\n",
    "    \"Chamfer Distance\": [\"mean\", \"std\"],\n",
    "    \"IoU\": [\"mean\", \"std\"]\n",
    "}).reset_index()\n",
    "\n",
    "fig, axs = plt.subplots(1, 2, figsize=(12, 5))\n",
    "thresholds = grouped[\"Threshold\"]\n",
    "\n",
    "cd_mean = grouped[\"Chamfer Distance\"][\"mean\"]\n",
    "cd_std = grouped[\"Chamfer Distance\"][\"std\"]\n",
    "axs[0].plot(thresholds, cd_mean, color='purple', label=\"Chamfer Distance\")\n",
    "axs[0].fill_between(thresholds, cd_mean - cd_std, cd_mean + cd_std, alpha=0.3)\n",
    "axs[0].set_title(\"Chamfer Distance vs Threshold\")\n",
    "\n",
    "iou_mean = grouped[\"IoU\"][\"mean\"]\n",
    "iou_std = grouped[\"IoU\"][\"std\"]\n",
    "axs[1].plot(thresholds, iou_mean, color='teal', label=\"IoU\")\n",
    "axs[1].fill_between(thresholds, iou_mean - iou_std, iou_mean + iou_std, alpha=0.3)\n",
    "axs[1].set_title(\"IoU vs Threshold\")\n",
    "\n",
    "for ax in axs:\n",
    "    ax.set_xlabel(\"Isosurface Threshold\")\n",
    "    ax.set_ylabel(\"Metric\")\n",
    "    ax.grid(True)\n",
    "\n",
    "plt.tight_layout()\n",
    "plt.show()"
   ]
  }
 ],
 "metadata": {
  "language_info": {
   "name": "python"
  }
 },
 "nbformat": 4,
 "nbformat_minor": 5
}
